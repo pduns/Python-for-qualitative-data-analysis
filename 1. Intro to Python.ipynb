{
 "cells": [
  {
   "cell_type": "markdown",
   "metadata": {},
   "source": [
    "# 1. Intro to Python and Jupyter notebook\n"
   ]
  },
  {
   "cell_type": "markdown",
   "metadata": {},
   "source": [
    "Code partially inspired by https://github.com/jgarciab/wwd2019"
   ]
  },
  {
   "cell_type": "markdown",
   "metadata": {},
   "source": [
    "## 1.1. Python"
   ]
  },
  {
   "cell_type": "markdown",
   "metadata": {},
   "source": [
    "- Programming language created by Guido van Rossum (in 1989)\n",
    "- Named after the Monthy Python's flying circus.\n",
    "- Emphasizes readability => It's easy"
   ]
  },
  {
   "cell_type": "markdown",
   "metadata": {},
   "source": [
    "*Zen of Python:* \n",
    "- Beautiful is better than ugly.\n",
    "- Simple is better than complex.\n",
    "- Readability counts.\n",
    "- If the implementation is hard to explain, it's a bad idea.\n",
    "- There should be one -- and preferably only one -- obvious way to do it.\n",
    "- Although that way may not be obvious at first unless you're Dutch.\n",
    "\n",
    "\n",
    "\n",
    "\n",
    "\n",
    "\n",
    "\n",
    "\n",
    "\n",
    "\n",
    "\n",
    "\n",
    "\n",
    "\n",
    "\n"
   ]
  },
  {
   "cell_type": "markdown",
   "metadata": {},
   "source": [
    "## 1.2. Jupyter \n",
    "One of many possible environments to run Python from. \n",
    "\n",
    "Jupyter is an interactive notebook for:\n",
    "- writing code\n",
    "- writing text\n",
    "- importing and exporting data\n",
    "- printing output (plots, tables, results of calculations, etc.)\n",
    "- ...  \n",
    "\n",
    "Jupyter notebooks allow you to do fancy things. For instance:\n",
    "- Autocomplete if you press shift\n",
    "- Help if you write \"?\" (example in next cell)\n"
   ]
  },
  {
   "cell_type": "code",
   "execution_count": 11,
   "metadata": {},
   "outputs": [],
   "source": [
    "#Let's say that a = 5, and ask jupyter for help with a. We'll see more on this later.\n",
    "#Select this cell and run it (Ctrl + Enter)\n",
    "a = 5\n",
    "a?"
   ]
  },
  {
   "cell_type": "markdown",
   "metadata": {},
   "source": [
    "### Cells in Jupyter\n",
    "Two types of cells: Markdown and Code cells\n",
    "\n",
    "- Markdown cells (like this one): For text\n",
    "\n",
    "- Code cells (like the previous one): For python"
   ]
  },
  {
   "cell_type": "code",
   "execution_count": null,
   "metadata": {},
   "outputs": [],
   "source": [
    "#Using the symbol \"#\" you write comments\n",
    "#printing something to the screen is easy:\n",
    "print(\"Hello World\") \n",
    "\n",
    "#Now click on the play button in the toolbar above (or click Ctrl + Enter)"
   ]
  },
  {
   "cell_type": "markdown",
   "metadata": {},
   "source": [
    "### Some important shortcuts for Jupyter\n",
    "Jupyter has buttons on top, but have a look at these shortcuts:\n",
    "\n",
    "'a' = new code cell above --> 'b' = new code cell below --> 'x' delete cell \n",
    "\n",
    "navigate through cells using arrows (or click on them)\n",
    "\n",
    "Enter = activate selected cell --> 'esc' = leave selected cell\n",
    "\n",
    "'m' = turn code cell into markdown --> 'y' = turn markdown into code cell\n",
    "\n",
    "'#' = writing comments in code cell // writing headlines in text cells\n",
    "\n",
    "Shift+Enter: Run cell and go to the next one"
   ]
  },
  {
   "cell_type": "markdown",
   "metadata": {},
   "source": [
    "## 1.3. Python data types "
   ]
  },
  {
   "cell_type": "markdown",
   "metadata": {},
   "source": [
    "- number\n",
    "    - int: -2, 0, 1\n",
    "    - float: 3.5, 4.23\n",
    "- string: \"I'm a string\" => Can use either single quotes or double quotes. Better to use double quotes.\n",
    "- boolean: False/True\n"
   ]
  },
  {
   "cell_type": "markdown",
   "metadata": {},
   "source": [
    "### 1.3.1. Numbers"
   ]
  },
  {
   "cell_type": "code",
   "execution_count": null,
   "metadata": {},
   "outputs": [],
   "source": [
    "# Using Python as calculator\n",
    "5+2 "
   ]
  },
  {
   "cell_type": "code",
   "execution_count": null,
   "metadata": {},
   "outputs": [],
   "source": [
    "# Assigning numbers to a variable\n",
    "var1=8\n",
    "var2=2\n",
    "var1+var2"
   ]
  },
  {
   "cell_type": "code",
   "execution_count": null,
   "metadata": {},
   "outputs": [],
   "source": [
    "# returning variable\n",
    "var1"
   ]
  },
  {
   "cell_type": "code",
   "execution_count": null,
   "metadata": {},
   "outputs": [],
   "source": [
    "# multiple returns using print() and calculating with variables \n",
    "print(var1)\n",
    "print(var1/var2)"
   ]
  },
  {
   "cell_type": "markdown",
   "metadata": {},
   "source": [
    "### 1.3.2. Strings"
   ]
  },
  {
   "cell_type": "markdown",
   "metadata": {},
   "source": [
    "Beware of the encoding of text data. Standard is UTF-8 (because it can handle all languages), but there exist other data encodings."
   ]
  },
  {
   "cell_type": "code",
   "execution_count": null,
   "metadata": {},
   "outputs": [],
   "source": [
    "# basic string operations\n",
    "print(\"eggs\")\n",
    "print(\"eggs\" + \"and\" + \"bacon\") #concatenating strings\n",
    "print(\"eggs\" + \" and \" + \"bacon\") #concatenating strings with spaces\n",
    "print(\"eggs and bacon\".upper())"
   ]
  },
  {
   "cell_type": "code",
   "execution_count": null,
   "metadata": {},
   "outputs": [],
   "source": [
    "# working with string variables\n",
    "var3 = \"eggs\"\n",
    "var4 = \"bacon\"\n",
    "print(var3 + \" and \" + var4)"
   ]
  },
  {
   "cell_type": "code",
   "execution_count": null,
   "metadata": {},
   "outputs": [],
   "source": [
    "#editing strings\n",
    "var_combined = var3 + ' and ' + var4\n",
    "var_combined_veg = var_combined.replace(\"bacon\",\"tofu\")\n",
    "print(var_combined_veg)"
   ]
  },
  {
   "cell_type": "code",
   "execution_count": null,
   "metadata": {},
   "outputs": [],
   "source": [
    "#be aware: lower and upper case are different characters\n",
    "print(\"Bacon\" in var_combined)\n",
    "print(\"bacon\" in var_combined)"
   ]
  },
  {
   "cell_type": "markdown",
   "metadata": {},
   "source": [
    "## 1.4. Data structures"
   ]
  },
  {
   "cell_type": "markdown",
   "metadata": {},
   "source": [
    "- list = notebook (you can add things, take out things, everything is in order). e.g. a list of the numbers 1,2 and 3: [1,2,3]\n",
    "- tuple = book (you cannot change it after it's printed). (1,2,3)\n",
    "- set = keywords in a paper (you can check if something exists easily). {1,2,3}\n",
    "- dictionary = index (you can find content easily). {\"a\":1, \"b\":2, \"c\":3}\n",
    "- numpy array = fast list for math. np.array([1,2,3])\n",
    "- pandas dataframe = spreedsheet. pd.DataFrame([1,2,3],columns=[\"a\",\"b\",\"c\"])\n",
    "\n",
    "They have methods = ways to edit the data structure. For example add, delete, find, sort... (= functions in excel)"
   ]
  },
  {
   "cell_type": "markdown",
   "metadata": {},
   "source": [
    "### 1.4.1. Lists"
   ]
  },
  {
   "cell_type": "code",
   "execution_count": null,
   "metadata": {},
   "outputs": [],
   "source": [
    "#this is a list\n",
    "list_a = [1,2,3] \n",
    "print(list_a)"
   ]
  },
  {
   "cell_type": "code",
   "execution_count": null,
   "metadata": {},
   "outputs": [],
   "source": [
    "#putting various datatypes and datastructure into a list\n",
    "list_b = ['hello', 1, list_a]\n",
    "print(list_b)"
   ]
  },
  {
   "cell_type": "code",
   "execution_count": null,
   "metadata": {},
   "outputs": [],
   "source": [
    "#adding elements to a list\n",
    "list_b.append(\"c\")\n",
    "print(\"Added c: \", list_b)"
   ]
  },
  {
   "cell_type": "code",
   "execution_count": null,
   "metadata": {},
   "outputs": [],
   "source": [
    "# Get element. The first element has index 0, which means that this_is_a_list[0] gets the first element\n",
    "print(\"Fourth element: \", list_b[3])\n",
    "print(\"Second to end element: \", list_b[1:])"
   ]
  },
  {
   "cell_type": "code",
   "execution_count": null,
   "metadata": {},
   "outputs": [],
   "source": [
    "# Get the length of a list\n",
    "len(list_b)"
   ]
  },
  {
   "cell_type": "code",
   "execution_count": null,
   "metadata": {},
   "outputs": [],
   "source": [
    "# you can ask python which type a variable is (works for both data types and structures)\n",
    "type(list_b)"
   ]
  },
  {
   "cell_type": "markdown",
   "metadata": {},
   "source": [
    "## 1.5. What did you remember? "
   ]
  },
  {
   "cell_type": "markdown",
   "metadata": {},
   "source": [
    "1. What is the difference between a code and a text cell? (answer in the empty cell below and press enter)"
   ]
  },
  {
   "cell_type": "markdown",
   "metadata": {},
   "source": []
  },
  {
   "cell_type": "markdown",
   "metadata": {},
   "source": [
    "2. What to press to create a new code cell below? (insert a code cell below) "
   ]
  },
  {
   "cell_type": "markdown",
   "metadata": {},
   "source": [
    "3. What to press to transform a code cell into a text cell? (transform the code cell into a text cell)"
   ]
  },
  {
   "cell_type": "markdown",
   "metadata": {},
   "source": [
    "4. Create a new code cell and assign a number to a variable (name it e.g. my_first_var) "
   ]
  },
  {
   "cell_type": "markdown",
   "metadata": {},
   "source": [
    "5. Print the variable you just created "
   ]
  },
  {
   "cell_type": "markdown",
   "metadata": {},
   "source": [
    "6. Create a second variable which contains the sum of my_first_var + 5"
   ]
  },
  {
   "cell_type": "markdown",
   "metadata": {},
   "source": [
    "7. Check which type of variable you created "
   ]
  },
  {
   "cell_type": "markdown",
   "metadata": {},
   "source": [
    "8. Create a new string variable"
   ]
  },
  {
   "cell_type": "markdown",
   "metadata": {},
   "source": [
    "9. Create a list of the three created variables"
   ]
  },
  {
   "cell_type": "markdown",
   "metadata": {},
   "source": [
    "10. Get the first element of the list"
   ]
  },
  {
   "cell_type": "markdown",
   "metadata": {},
   "source": [
    "11. Show the length of the list"
   ]
  },
  {
   "cell_type": "markdown",
   "metadata": {},
   "source": [
    "## 1.6. Some useful links\n",
    "For looking up code: http://stackoverflow.com/\n",
    "\n",
    "Introductory Python course: https://github.com/jgarciab/wwd2019\n",
    "\n",
    "'Doing computiational social science with Python: An Introduction': https://papers.ssrn.com/sol3/papers.cfm?abstract_id=2737682\n"
   ]
  }
 ],
 "metadata": {
  "kernelspec": {
   "display_name": "Python 3",
   "language": "python",
   "name": "python3"
  },
  "language_info": {
   "codemirror_mode": {
    "name": "ipython",
    "version": 3
   },
   "file_extension": ".py",
   "mimetype": "text/x-python",
   "name": "python",
   "nbconvert_exporter": "python",
   "pygments_lexer": "ipython3",
   "version": "3.8.5"
  }
 },
 "nbformat": 4,
 "nbformat_minor": 4
}
