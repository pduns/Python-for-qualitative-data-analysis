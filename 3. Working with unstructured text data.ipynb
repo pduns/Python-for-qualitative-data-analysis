{
 "cells": [
  {
   "cell_type": "markdown",
   "metadata": {},
   "source": [
    "# 3. Working with unstructured text data"
   ]
  },
  {
   "cell_type": "markdown",
   "metadata": {},
   "source": [
    "It is relatively easy to work with text data that is organized in a structured format (i.e. something like a CSV). However, in real life texts often occue in other unstructured formats like .txt, .docx, .pdf. These texts need to be treated differently - you need to create the structure yourself."
   ]
  },
  {
   "cell_type": "markdown",
   "metadata": {},
   "source": [
    "### 3.1. Word documents"
   ]
  },
  {
   "cell_type": "code",
   "execution_count": 142,
   "metadata": {},
   "outputs": [],
   "source": [
    "# load interview transcripts for Austrian conservative members\n",
    "import textract\n",
    "import glob\n",
    "cons_interviews_files = glob.glob(r'C:\\Users\\pauld\\OneDrive\\PhD\\Teaching\\2023WiSe-Qualitative methods_MA\\Cons_interview_german*.docx')\n",
    "lab_interviews_files = glob.glob(r'C:\\Users\\pauld\\OneDrive\\PhD\\Teaching\\2023WiSe-Qualitative methods_MA\\Lab_interview_german*.docx')\n"
   ]
  },
  {
   "cell_type": "code",
   "execution_count": 143,
   "metadata": {},
   "outputs": [
    {
     "data": {
      "text/plain": [
       "['C:\\\\Users\\\\pauld\\\\OneDrive\\\\PhD\\\\Teaching\\\\2023WiSe-Qualitative methods_MA\\\\Cons_interview_german_1.docx',\n",
       " 'C:\\\\Users\\\\pauld\\\\OneDrive\\\\PhD\\\\Teaching\\\\2023WiSe-Qualitative methods_MA\\\\Cons_interview_german_2.docx',\n",
       " 'C:\\\\Users\\\\pauld\\\\OneDrive\\\\PhD\\\\Teaching\\\\2023WiSe-Qualitative methods_MA\\\\Cons_interview_german_3.docx']"
      ]
     },
     "execution_count": 143,
     "metadata": {},
     "output_type": "execute_result"
    }
   ],
   "source": [
    "cons_interviews_files"
   ]
  },
  {
   "cell_type": "code",
   "execution_count": 80,
   "metadata": {},
   "outputs": [],
   "source": [
    "import docx2txt\n",
    "\n",
    "cons_interviews = []\n",
    "\n",
    "for filename in cons_interviews_files:\n",
    "    text = docx2txt.process(filename)\n",
    "    cons_interviews.append(text)"
   ]
  },
  {
   "cell_type": "code",
   "execution_count": 81,
   "metadata": {},
   "outputs": [
    {
     "data": {
      "text/plain": [
       "'Interviewer: Guten Tag, meine Damen und Herren. Heute haben wir die Ehre, einen prominenten Gast zu begrüßen, einen konservativen Abgeordneten des österreichischen Parlaments. Herzlich willkommen, Herr [Name]. Wir freuen uns, mit Ihnen über aktuelle politische Themen zu sprechen.\\n\\n\\n\\nAbgeordneter: Guten Tag, es ist mir eine Freude, hier zu sein.\\n\\n\\n\\nInterviewer: Lassen Sie uns direkt einsteigen. Eines der beherrschenden Themen in der politischen Landschaft ist derzeit die Migrationspolitik. Wie stehen Sie zu diesem Thema, insbesondere im Kontext von Österreich?\\n\\n\\n\\nAbgeordneter: Die Migrationspolitik ist zweifellos von großer Bedeutung. Österreich hat eine lange Tradition der Offenheit, aber es ist wichtig sicherzustellen, dass wir eine kontrollierte und nachhaltige Einwanderungspolitik haben. Wir müssen die Bedürfnisse unserer Gesellschaft und Wirtschaft berücksichtigen und sicherstellen, dass unsere Grenzen geschützt sind. Dies bedeutet jedoch nicht, dass wir den humanitären Aspekt aus den Augen verlieren dürfen.\\n\\n\\n\\nInterviewer: Ein weiteres heiß diskutiertes Thema ist die Wirtschaftspolitik. Wie sieht Ihre Perspektive hinsichtlich wirtschaftlicher Maßnahmen und Reformen aus?\\n\\n\\n\\nAbgeordneter: Die Wirtschaft ist das Rückgrat eines jeden Landes, und es ist entscheidend, eine Politik zu verfolgen, die Wachstum und Wohlstand fördert. Wir setzen uns für unternehmerische Freiheit, niedrige Steuern und Abbau von bürokratischen Hürden ein. Gleichzeitig ist es wichtig, die soziale Verantwortung nicht zu vernachlässigen und sicherzustellen, dass der wirtschaftliche Erfolg breit geteilt wird.\\n\\n\\n\\nInterviewer: In Bezug auf internationale Beziehungen, wie sehen Sie die Rolle Österreichs in der EU und global?\\n\\n\\n\\nAbgeordneter: Österreich ist ein stolzes Mitglied der Europäischen Union, und wir sollten uns weiterhin für eine starke Zusammenarbeit einsetzen. Gleichzeitig müssen wir darauf achten, dass unsere nationale Souveränität gewahrt bleibt. In der globalen Arena sollten wir eine ausgewogene Außenpolitik verfolgen, die auf Dialog und Zusammenarbeit basiert, aber auch die Interessen Österreichs schützt.\\n\\n\\n\\nInterviewer: Ein Thema, das viele Bürgerinnen und Bürger bewegt, ist der Klimawandel. Wie positionieren Sie sich zu Umweltfragen und den Bemühungen zur Bekämpfung des Klimawandels?\\n\\n\\n\\nAbgeordneter: Der Klimawandel ist zweifellos eine ernste Herausforderung, und wir müssen verantwortungsbewusst handeln, um die Umwelt zu schützen. Allerdings müssen Maßnahmen vernünftig und realistisch sein, um die Wettbewerbsfähigkeit unserer Wirtschaft nicht zu gefährden. Innovation und Technologie können Schlüsselkomponenten sein, um Umweltauswirkungen zu minimieren, ohne unsere Lebensgrundlagen zu gefährden.\\n\\n\\n\\nInterviewer: Abschließend, welche Botschaft möchten Sie an die Bürgerinnen und Bürger Österreichs senden?\\n\\n\\n\\nAbgeordneter: Ich möchte die Bürgerinnen und Bürger dazu ermutigen, sich aktiv in die Politik einzubringen und ihre Meinungen zu äußern. Eine starke Demokratie lebt von der Beteiligung ihrer Bürger. Wir als Politiker sind hier, um Ihre Interessen zu vertreten, und es ist wichtig, dass wir im Dialog bleiben, um die besten Lösungen für die Herausforderungen unserer Zeit zu finden.\\n\\n\\n\\nInterviewer: Vielen Dank, Herr [Name], für Ihre Zeit und Ihre Einblicke zu den aktuellen politischen Themen. Wir schätzen Ihre Perspektive sehr.\\n\\n\\n\\nAbgeordneter: Vielen Dank. Es war mir eine Freude, hier zu sein und diese wichtigen Themen zu diskutieren.'"
      ]
     },
     "execution_count": 81,
     "metadata": {},
     "output_type": "execute_result"
    }
   ],
   "source": [
    "cons_interviews[0]"
   ]
  },
  {
   "cell_type": "code",
   "execution_count": null,
   "metadata": {},
   "outputs": [],
   "source": [
    "# what's wrong here, if we want to analyze the MPs language? "
   ]
  },
  {
   "cell_type": "code",
   "execution_count": null,
   "metadata": {},
   "outputs": [],
   "source": []
  },
  {
   "cell_type": "code",
   "execution_count": null,
   "metadata": {},
   "outputs": [],
   "source": []
  },
  {
   "cell_type": "code",
   "execution_count": null,
   "metadata": {},
   "outputs": [],
   "source": []
  },
  {
   "cell_type": "code",
   "execution_count": null,
   "metadata": {},
   "outputs": [],
   "source": []
  },
  {
   "cell_type": "code",
   "execution_count": null,
   "metadata": {},
   "outputs": [],
   "source": []
  },
  {
   "cell_type": "code",
   "execution_count": null,
   "metadata": {},
   "outputs": [],
   "source": []
  },
  {
   "cell_type": "code",
   "execution_count": null,
   "metadata": {},
   "outputs": [],
   "source": []
  },
  {
   "cell_type": "code",
   "execution_count": 110,
   "metadata": {},
   "outputs": [],
   "source": [
    "# Define a regular expression pattern to capture only Abgeordneter or MP  statements --> regular expressions are like a language to identify patterns in text, quite complicated to understand\n",
    "import re\n",
    "pattern1 = r'Abgeordneter:.*' # it basically takes all the text that follows instances where an Abgeordneter speaks\n",
    "pattern2 = r'MP:.*'\n",
    "\n",
    "statement_list_con = []\n",
    "MP_list_con = []\n",
    "\n",
    "nr = 1\n",
    "\n",
    "# for loop to iterate through the list of conserative interview transcripts\n",
    "for transcript in cons_interviews:\n",
    "    \n",
    "    #create an ID for the MP: \n",
    "    MP = 'con_'+str(nr) # here we create an ID which looks like con_1, con_2, etc. that we can use to attach all text from the first transcript \n",
    "    \n",
    "    # Use re.findall to extract Abgeordneter statements \n",
    "    abgeordneter_statements = re.findall(pattern1, transcript)\n",
    "    \n",
    "    \n",
    "    # in case it didn't find anything for Abgeordneter, try it for 'MP'\n",
    "    if abgeordneter_statements == []:\n",
    "        abgeordneter_statements = re.findall(pattern2, transcript)\n",
    "    \n",
    "    #now we append the statement_list with all found statements and MP IDs\n",
    "    for statement in abgeordneter_statements:\n",
    "        statement_list_con.append(statement)\n",
    "        MP_list_con.append(MP)\n",
    "    \n",
    "    # this is necessary to create the MP identifier \n",
    "    nr = nr+1\n"
   ]
  },
  {
   "cell_type": "code",
   "execution_count": 106,
   "metadata": {},
   "outputs": [],
   "source": [
    "# now same for labour\n",
    "lab_interviews = []\n",
    "\n",
    "for filename in lab_interviews_files:\n",
    "    text = docx2txt.process(filename)\n",
    "    lab_interviews.append(text)\n",
    "\n",
    "    \n",
    "# Define a regular expression pattern to capture only Abgeordneter or MP  statements --> regular expressions are like a language to identify patterns in text, quite complicated to understand\n",
    "import re\n",
    "pattern1 = r'Abgeordneter:.*' # it basically takes all the text that follows instances where an MP speaks\n",
    "pattern2 = r'MP:.*'\n",
    "\n",
    "statement_list_lab = []\n",
    "MP_list_lab = []\n",
    "nr = 1\n",
    "for transcript in lab_interviews:\n",
    "    \n",
    "    #create an ID for the MP: \n",
    "    MP = 'lab_'+str(nr)\n",
    "    \n",
    "    # Use re.findall to extract Abgeordneter statements\n",
    "    abgeordneter_statements = re.findall(pattern1, transcript)\n",
    "    \n",
    "    \n",
    "    # in case it didn't find anything for Abgeordneter, return it for 'MP'\n",
    "    if abgeordneter_statements == []:\n",
    "        abgeordneter_statements = re.findall(pattern2, transcript)\n",
    "    \n",
    "    for statement in abgeordneter_statements:\n",
    "        statement_list_lab.append(statement)\n",
    "        MP_list_lab.append(MP)\n",
    "    \n",
    "    nr = nr+1"
   ]
  },
  {
   "cell_type": "code",
   "execution_count": 115,
   "metadata": {},
   "outputs": [],
   "source": [
    "import pandas as pd\n",
    "# now create a dataframe that is similar to what we used in Notebook 2\n",
    "df_con = pd.DataFrame(list(zip(MP_list_con,statement_list_con)), columns = ['MP', 'Text'])\n",
    "df_lab = pd.DataFrame(list(zip(MP_list_lab,statement_list_lab)), columns = ['MP', 'Text'])\n",
    "\n",
    "\n",
    "df = pd.merge(df_con, df_lab, how = 'outer') #'outer means that it basically doesn't merge but just append the two dataframes to each other\n",
    "\n",
    "# add a party variable \n",
    "party_list = []\n",
    "for MP in df['MP']: \n",
    "    if 'con' in MP: \n",
    "        party_list.append('Con')\n",
    "    else: #whatch out, this takes everything else (only works if you have not more than two parties) \n",
    "        party_list.append('Lab')\n",
    "df['party'] = party_list\n",
    "\n",
    "\n",
    "#add an empty column for coding\n",
    "df['your_code'] = ''"
   ]
  },
  {
   "cell_type": "code",
   "execution_count": 116,
   "metadata": {
    "scrolled": false
   },
   "outputs": [
    {
     "data": {
      "text/html": [
       "<div>\n",
       "<style scoped>\n",
       "    .dataframe tbody tr th:only-of-type {\n",
       "        vertical-align: middle;\n",
       "    }\n",
       "\n",
       "    .dataframe tbody tr th {\n",
       "        vertical-align: top;\n",
       "    }\n",
       "\n",
       "    .dataframe thead th {\n",
       "        text-align: right;\n",
       "    }\n",
       "</style>\n",
       "<table border=\"1\" class=\"dataframe\">\n",
       "  <thead>\n",
       "    <tr style=\"text-align: right;\">\n",
       "      <th></th>\n",
       "      <th>MP</th>\n",
       "      <th>Text</th>\n",
       "      <th>party</th>\n",
       "      <th>your_code</th>\n",
       "    </tr>\n",
       "  </thead>\n",
       "  <tbody>\n",
       "    <tr>\n",
       "      <th>0</th>\n",
       "      <td>con_1</td>\n",
       "      <td>Abgeordneter: Guten Tag, es ist mir eine Freud...</td>\n",
       "      <td>Con</td>\n",
       "      <td></td>\n",
       "    </tr>\n",
       "    <tr>\n",
       "      <th>1</th>\n",
       "      <td>con_1</td>\n",
       "      <td>Abgeordneter: Die Migrationspolitik ist zweife...</td>\n",
       "      <td>Con</td>\n",
       "      <td></td>\n",
       "    </tr>\n",
       "    <tr>\n",
       "      <th>2</th>\n",
       "      <td>con_1</td>\n",
       "      <td>Abgeordneter: Die Wirtschaft ist das Rückgrat ...</td>\n",
       "      <td>Con</td>\n",
       "      <td></td>\n",
       "    </tr>\n",
       "    <tr>\n",
       "      <th>3</th>\n",
       "      <td>con_1</td>\n",
       "      <td>Abgeordneter: Österreich ist ein stolzes Mitgl...</td>\n",
       "      <td>Con</td>\n",
       "      <td></td>\n",
       "    </tr>\n",
       "    <tr>\n",
       "      <th>4</th>\n",
       "      <td>con_1</td>\n",
       "      <td>Abgeordneter: Der Klimawandel ist zweifellos e...</td>\n",
       "      <td>Con</td>\n",
       "      <td></td>\n",
       "    </tr>\n",
       "    <tr>\n",
       "      <th>5</th>\n",
       "      <td>con_1</td>\n",
       "      <td>Abgeordneter: Ich möchte die Bürgerinnen und B...</td>\n",
       "      <td>Con</td>\n",
       "      <td></td>\n",
       "    </tr>\n",
       "    <tr>\n",
       "      <th>6</th>\n",
       "      <td>con_1</td>\n",
       "      <td>Abgeordneter: Vielen Dank. Es war mir eine Fre...</td>\n",
       "      <td>Con</td>\n",
       "      <td></td>\n",
       "    </tr>\n",
       "    <tr>\n",
       "      <th>7</th>\n",
       "      <td>con_2</td>\n",
       "      <td>Abgeordneter: Vielen Dank für die Einladung. D...</td>\n",
       "      <td>Con</td>\n",
       "      <td></td>\n",
       "    </tr>\n",
       "    <tr>\n",
       "      <th>8</th>\n",
       "      <td>con_2</td>\n",
       "      <td>Abgeordneter: Einwanderung ist eine komplexe A...</td>\n",
       "      <td>Con</td>\n",
       "      <td></td>\n",
       "    </tr>\n",
       "    <tr>\n",
       "      <th>9</th>\n",
       "      <td>con_2</td>\n",
       "      <td>Abgeordneter: Der Platz Österreichs in der Eur...</td>\n",
       "      <td>Con</td>\n",
       "      <td></td>\n",
       "    </tr>\n",
       "    <tr>\n",
       "      <th>10</th>\n",
       "      <td>con_2</td>\n",
       "      <td>Abgeordneter: Der Klimawandel ist eine echte u...</td>\n",
       "      <td>Con</td>\n",
       "      <td></td>\n",
       "    </tr>\n",
       "    <tr>\n",
       "      <th>11</th>\n",
       "      <td>con_2</td>\n",
       "      <td>Abgeordneter: Bildung und Gesundheitswesen sin...</td>\n",
       "      <td>Con</td>\n",
       "      <td></td>\n",
       "    </tr>\n",
       "    <tr>\n",
       "      <th>12</th>\n",
       "      <td>con_2</td>\n",
       "      <td>Abgeordneter: Einheit und Dialog sind entschei...</td>\n",
       "      <td>Con</td>\n",
       "      <td></td>\n",
       "    </tr>\n",
       "    <tr>\n",
       "      <th>13</th>\n",
       "      <td>con_2</td>\n",
       "      <td>Abgeordneter: Es war mir eine Freude. Vielen D...</td>\n",
       "      <td>Con</td>\n",
       "      <td></td>\n",
       "    </tr>\n",
       "    <tr>\n",
       "      <th>14</th>\n",
       "      <td>con_3</td>\n",
       "      <td>MP: Vielen Dank für die Einladung. Die politis...</td>\n",
       "      <td>Con</td>\n",
       "      <td></td>\n",
       "    </tr>\n",
       "    <tr>\n",
       "      <th>15</th>\n",
       "      <td>con_3</td>\n",
       "      <td>MP: Wirtschaftliches Wachstum und Schaffung vo...</td>\n",
       "      <td>Con</td>\n",
       "      <td></td>\n",
       "    </tr>\n",
       "    <tr>\n",
       "      <th>16</th>\n",
       "      <td>con_3</td>\n",
       "      <td>MP: Die Rolle Österreichs auf der internationa...</td>\n",
       "      <td>Con</td>\n",
       "      <td></td>\n",
       "    </tr>\n",
       "    <tr>\n",
       "      <th>17</th>\n",
       "      <td>con_3</td>\n",
       "      <td>MP: Umweltschutz ist eine kritische Frage, und...</td>\n",
       "      <td>Con</td>\n",
       "      <td></td>\n",
       "    </tr>\n",
       "    <tr>\n",
       "      <th>18</th>\n",
       "      <td>con_3</td>\n",
       "      <td>MP: Familienpolitik und soziale Fürsorge sind ...</td>\n",
       "      <td>Con</td>\n",
       "      <td></td>\n",
       "    </tr>\n",
       "    <tr>\n",
       "      <th>19</th>\n",
       "      <td>con_3</td>\n",
       "      <td>MP: Einheit und konstruktiver Dialog sind für ...</td>\n",
       "      <td>Con</td>\n",
       "      <td></td>\n",
       "    </tr>\n",
       "    <tr>\n",
       "      <th>20</th>\n",
       "      <td>con_3</td>\n",
       "      <td>MP: Es war mir ein Vergnügen. Vielen Dank für ...</td>\n",
       "      <td>Con</td>\n",
       "      <td></td>\n",
       "    </tr>\n",
       "    <tr>\n",
       "      <th>21</th>\n",
       "      <td>lab_1</td>\n",
       "      <td>Abgeordneter: Guten Tag, vielen Dank für die E...</td>\n",
       "      <td>Lab</td>\n",
       "      <td></td>\n",
       "    </tr>\n",
       "    <tr>\n",
       "      <th>22</th>\n",
       "      <td>lab_1</td>\n",
       "      <td>Abgeordneter: Die Bildungsreform ist zweifello...</td>\n",
       "      <td>Lab</td>\n",
       "      <td></td>\n",
       "    </tr>\n",
       "    <tr>\n",
       "      <th>23</th>\n",
       "      <td>lab_1</td>\n",
       "      <td>Abgeordneter: Die soziale Sicherheit und wirts...</td>\n",
       "      <td>Lab</td>\n",
       "      <td></td>\n",
       "    </tr>\n",
       "    <tr>\n",
       "      <th>24</th>\n",
       "      <td>lab_1</td>\n",
       "      <td>Abgeordneter: Die Frage der Migration ist komp...</td>\n",
       "      <td>Lab</td>\n",
       "      <td></td>\n",
       "    </tr>\n",
       "    <tr>\n",
       "      <th>25</th>\n",
       "      <td>lab_1</td>\n",
       "      <td>Abgeordneter: Natürlich. In den kommenden Mona...</td>\n",
       "      <td>Lab</td>\n",
       "      <td></td>\n",
       "    </tr>\n",
       "    <tr>\n",
       "      <th>26</th>\n",
       "      <td>lab_1</td>\n",
       "      <td>Abgeordneter: Vielen Dank. Es war mir eine Fre...</td>\n",
       "      <td>Lab</td>\n",
       "      <td></td>\n",
       "    </tr>\n",
       "    <tr>\n",
       "      <th>27</th>\n",
       "      <td>lab_2</td>\n",
       "      <td>MP: Vielen Dank für die Einladung. Es ist imme...</td>\n",
       "      <td>Lab</td>\n",
       "      <td></td>\n",
       "    </tr>\n",
       "    <tr>\n",
       "      <th>28</th>\n",
       "      <td>lab_2</td>\n",
       "      <td>MP: Die Bildung ist eine entscheidende Säule f...</td>\n",
       "      <td>Lab</td>\n",
       "      <td></td>\n",
       "    </tr>\n",
       "    <tr>\n",
       "      <th>29</th>\n",
       "      <td>lab_2</td>\n",
       "      <td>MP: Die Integration von Migranten und Flüchtli...</td>\n",
       "      <td>Lab</td>\n",
       "      <td></td>\n",
       "    </tr>\n",
       "    <tr>\n",
       "      <th>30</th>\n",
       "      <td>lab_2</td>\n",
       "      <td>MP: Die Digitalisierung bietet immense Chancen...</td>\n",
       "      <td>Lab</td>\n",
       "      <td></td>\n",
       "    </tr>\n",
       "    <tr>\n",
       "      <th>31</th>\n",
       "      <td>lab_2</td>\n",
       "      <td>MP: Die Gleichstellung der Geschlechter ist ei...</td>\n",
       "      <td>Lab</td>\n",
       "      <td></td>\n",
       "    </tr>\n",
       "    <tr>\n",
       "      <th>32</th>\n",
       "      <td>lab_2</td>\n",
       "      <td>MP: Ich möchte allen Bürgerinnen und Bürgern v...</td>\n",
       "      <td>Lab</td>\n",
       "      <td></td>\n",
       "    </tr>\n",
       "    <tr>\n",
       "      <th>33</th>\n",
       "      <td>lab_2</td>\n",
       "      <td>MP: Gern geschehen. Vielen Dank für die Einlad...</td>\n",
       "      <td>Lab</td>\n",
       "      <td></td>\n",
       "    </tr>\n",
       "    <tr>\n",
       "      <th>34</th>\n",
       "      <td>lab_3</td>\n",
       "      <td>MP: Vielen Dank für die Einladung. Es freut mi...</td>\n",
       "      <td>Lab</td>\n",
       "      <td></td>\n",
       "    </tr>\n",
       "    <tr>\n",
       "      <th>35</th>\n",
       "      <td>lab_3</td>\n",
       "      <td>MP: Die Gesundheitsversorgung ist von zentrale...</td>\n",
       "      <td>Lab</td>\n",
       "      <td></td>\n",
       "    </tr>\n",
       "    <tr>\n",
       "      <th>36</th>\n",
       "      <td>lab_3</td>\n",
       "      <td>MP: Soziale Gerechtigkeit ist ein zentrales An...</td>\n",
       "      <td>Lab</td>\n",
       "      <td></td>\n",
       "    </tr>\n",
       "    <tr>\n",
       "      <th>37</th>\n",
       "      <td>lab_3</td>\n",
       "      <td>MP: Cybersicherheit ist von zunehmender Bedeut...</td>\n",
       "      <td>Lab</td>\n",
       "      <td></td>\n",
       "    </tr>\n",
       "    <tr>\n",
       "      <th>38</th>\n",
       "      <td>lab_3</td>\n",
       "      <td>MP: Innovation ist der Schlüssel für eine nach...</td>\n",
       "      <td>Lab</td>\n",
       "      <td></td>\n",
       "    </tr>\n",
       "    <tr>\n",
       "      <th>39</th>\n",
       "      <td>lab_3</td>\n",
       "      <td>MP: Ich möchte den Bürgerinnen und Bürgern ver...</td>\n",
       "      <td>Lab</td>\n",
       "      <td></td>\n",
       "    </tr>\n",
       "    <tr>\n",
       "      <th>40</th>\n",
       "      <td>lab_3</td>\n",
       "      <td>MP: Ich danke Ihnen. Es war mir eine Freude, h...</td>\n",
       "      <td>Lab</td>\n",
       "      <td></td>\n",
       "    </tr>\n",
       "  </tbody>\n",
       "</table>\n",
       "</div>"
      ],
      "text/plain": [
       "       MP                                               Text party your_code\n",
       "0   con_1  Abgeordneter: Guten Tag, es ist mir eine Freud...   Con          \n",
       "1   con_1  Abgeordneter: Die Migrationspolitik ist zweife...   Con          \n",
       "2   con_1  Abgeordneter: Die Wirtschaft ist das Rückgrat ...   Con          \n",
       "3   con_1  Abgeordneter: Österreich ist ein stolzes Mitgl...   Con          \n",
       "4   con_1  Abgeordneter: Der Klimawandel ist zweifellos e...   Con          \n",
       "5   con_1  Abgeordneter: Ich möchte die Bürgerinnen und B...   Con          \n",
       "6   con_1  Abgeordneter: Vielen Dank. Es war mir eine Fre...   Con          \n",
       "7   con_2  Abgeordneter: Vielen Dank für die Einladung. D...   Con          \n",
       "8   con_2  Abgeordneter: Einwanderung ist eine komplexe A...   Con          \n",
       "9   con_2  Abgeordneter: Der Platz Österreichs in der Eur...   Con          \n",
       "10  con_2  Abgeordneter: Der Klimawandel ist eine echte u...   Con          \n",
       "11  con_2  Abgeordneter: Bildung und Gesundheitswesen sin...   Con          \n",
       "12  con_2  Abgeordneter: Einheit und Dialog sind entschei...   Con          \n",
       "13  con_2  Abgeordneter: Es war mir eine Freude. Vielen D...   Con          \n",
       "14  con_3  MP: Vielen Dank für die Einladung. Die politis...   Con          \n",
       "15  con_3  MP: Wirtschaftliches Wachstum und Schaffung vo...   Con          \n",
       "16  con_3  MP: Die Rolle Österreichs auf der internationa...   Con          \n",
       "17  con_3  MP: Umweltschutz ist eine kritische Frage, und...   Con          \n",
       "18  con_3  MP: Familienpolitik und soziale Fürsorge sind ...   Con          \n",
       "19  con_3  MP: Einheit und konstruktiver Dialog sind für ...   Con          \n",
       "20  con_3  MP: Es war mir ein Vergnügen. Vielen Dank für ...   Con          \n",
       "21  lab_1  Abgeordneter: Guten Tag, vielen Dank für die E...   Lab          \n",
       "22  lab_1  Abgeordneter: Die Bildungsreform ist zweifello...   Lab          \n",
       "23  lab_1  Abgeordneter: Die soziale Sicherheit und wirts...   Lab          \n",
       "24  lab_1  Abgeordneter: Die Frage der Migration ist komp...   Lab          \n",
       "25  lab_1  Abgeordneter: Natürlich. In den kommenden Mona...   Lab          \n",
       "26  lab_1  Abgeordneter: Vielen Dank. Es war mir eine Fre...   Lab          \n",
       "27  lab_2  MP: Vielen Dank für die Einladung. Es ist imme...   Lab          \n",
       "28  lab_2  MP: Die Bildung ist eine entscheidende Säule f...   Lab          \n",
       "29  lab_2  MP: Die Integration von Migranten und Flüchtli...   Lab          \n",
       "30  lab_2  MP: Die Digitalisierung bietet immense Chancen...   Lab          \n",
       "31  lab_2  MP: Die Gleichstellung der Geschlechter ist ei...   Lab          \n",
       "32  lab_2  MP: Ich möchte allen Bürgerinnen und Bürgern v...   Lab          \n",
       "33  lab_2  MP: Gern geschehen. Vielen Dank für die Einlad...   Lab          \n",
       "34  lab_3  MP: Vielen Dank für die Einladung. Es freut mi...   Lab          \n",
       "35  lab_3  MP: Die Gesundheitsversorgung ist von zentrale...   Lab          \n",
       "36  lab_3  MP: Soziale Gerechtigkeit ist ein zentrales An...   Lab          \n",
       "37  lab_3  MP: Cybersicherheit ist von zunehmender Bedeut...   Lab          \n",
       "38  lab_3  MP: Innovation ist der Schlüssel für eine nach...   Lab          \n",
       "39  lab_3  MP: Ich möchte den Bürgerinnen und Bürgern ver...   Lab          \n",
       "40  lab_3  MP: Ich danke Ihnen. Es war mir eine Freude, h...   Lab          "
      ]
     },
     "execution_count": 116,
     "metadata": {},
     "output_type": "execute_result"
    }
   ],
   "source": [
    "df"
   ]
  },
  {
   "cell_type": "code",
   "execution_count": null,
   "metadata": {},
   "outputs": [],
   "source": [
    "## ------- insert code from Notebook 2 -----------\n",
    "\n",
    "\n",
    "## run through the same steps "
   ]
  },
  {
   "cell_type": "markdown",
   "metadata": {},
   "source": [
    "### 3.2. Opening PDFs"
   ]
  },
  {
   "cell_type": "code",
   "execution_count": 122,
   "metadata": {},
   "outputs": [
    {
     "data": {
      "text/plain": [
       "'\\n\\n\\n\\n\\n\\n\\n\\n\\n\\n\\n\\n\\n\\n\\n\\n\\n\\n\\n\\n\\n\\n\\n\\n\\n\\n\\n\\n\\n\\n\\n\\n\\n\\n\\n\\n\\n\\n\\n\\nWorkshop preparation: Using automated methods to assist in \\n\\nqualitative data analysis \\n\\nComputational methods can be a powerful aid to qualitative data analysis. In this hands-on workshop, \\n\\nwe will try analyzing text using Python, one of the simplest and most commonly used programming \\n\\nlanguages. Please follow the instructions below to make this a successful session.  \\n\\n1. To bring to class \\n\\n- Please bring your own text data to analyze in class. The data should either be saved as .doc, .pdf, .txt, \\n\\nor in a .csv/.xlsx file. You can bring multiple separate files or one large text file. Of course, this could \\n\\nbe interview transcripts or observations that you collected for this class. In case you cannot bring any \\n\\ndata yourself, I will provide you with an alternative text to work with.  \\n\\n- You will need a charged(!) laptop in class – also bring a charger, working with data can be battery-\\n\\nintensive. Please install the necessary software ahead of class: We will run Python using Jupyter \\n\\nNotebook, which is an interface that is particularly well-suited for Python beginners. We will get Jupyter \\n\\nNotebook through the software Anaconda, which you should download from anaconda.com. Please \\n\\nwatch and follow the detailed instructions in this video: \\n\\nhttps://www.youtube.com/watch?v=WUeBzT43JyY. Make sure to stick to the instructions. If you run \\n\\ninto problems, feel free to write to paul.dunshirn@univie.ac.at to ask.  \\n\\nTo check whether the installation has worked, please test-open a Jupyter Notebook and run the \\n\\ncommand print(‘hello world!’) before class. The video explains how to do this. Everything else will \\n\\nfollow 😊. \\n\\n2. To read for class \\n\\nPlease read the assigned text carefully, focusing on Step 1 and 2 of the described computational \\n\\ngrounded theory approach. Step 3 (confirmation) will be less important for us. You can find the text on \\n\\nMoodle.  \\n\\nNelson, Laura K. 2020. “Computational Grounded Theory: A Methodological Framework.” \\n\\nSociological Methods & Research 49(1): 3–42.  \\n\\n \\n\\nhttps://www.youtube.com/watch?v=WUeBzT43JyY\\nmailto:paul.dunshirn@univie.ac.at\\n\\n'"
      ]
     },
     "execution_count": 122,
     "metadata": {},
     "output_type": "execute_result"
    }
   ],
   "source": [
    "from tika import parser # pip install tika\n",
    "\n",
    "raw = parser.from_file(r'C:\\Users\\pauld\\OneDrive\\PhD\\Teaching\\2023WiSe-Qualitative methods_MA\\Using Python to assist in qualitative data analysis.pdf')\n",
    "raw['content']"
   ]
  },
  {
   "cell_type": "code",
   "execution_count": 124,
   "metadata": {},
   "outputs": [
    {
     "data": {
      "text/plain": [
       "'Workshop preparation: Using automated methods to assist in qualitative data analysis Computational methods can be a powerful aid to qualitative data analysis. In this hands-on workshop, we will try analyzing text using Python, one of the simplest and most commonly used programming languages. Please follow the instructions below to make this a successful session.  1. To bring to class - Please bring your own text data to analyze in class. The data should either be saved as .doc, .pdf, .txt, or in a .csv/.xlsx file. You can bring multiple separate files or one large text file. Of course, this could be interview transcripts or observations that you collected for this class. In case you cannot bring any data yourself, I will provide you with an alternative text to work with.  - You will need a charged(!) laptop in class – also bring a charger, working with data can be battery-intensive. Please install the necessary software ahead of class: We will run Python using Jupyter Notebook, which is an interface that is particularly well-suited for Python beginners. We will get Jupyter Notebook through the software Anaconda, which you should download from anaconda.com. Please watch and follow the detailed instructions in this video: https://www.youtube.com/watch?v=WUeBzT43JyY. Make sure to stick to the instructions. If you run into problems, feel free to write to paul.dunshirn@univie.ac.at to ask.  To check whether the installation has worked, please test-open a Jupyter Notebook and run the command print(‘hello world!’) before class. The video explains how to do this. Everything else will follow 😊. 2. To read for class Please read the assigned text carefully, focusing on Step 1 and 2 of the described computational grounded theory approach. Step 3 (confirmation) will be less important for us. You can find the text on Moodle.  Nelson, Laura K. 2020. “Computational Grounded Theory: A Methodological Framework.” Sociological Methods & Research 49(1): 3–42.   https://www.youtube.com/watch?v=WUeBzT43JyYmailto:paul.dunshirn@univie.ac.at'"
      ]
     },
     "execution_count": 124,
     "metadata": {},
     "output_type": "execute_result"
    }
   ],
   "source": [
    "text = raw['content'].replace('\\n', '')\n",
    "text"
   ]
  },
  {
   "cell_type": "markdown",
   "metadata": {},
   "source": [
    "### 3.3. Opening .txt"
   ]
  },
  {
   "cell_type": "code",
   "execution_count": null,
   "metadata": {},
   "outputs": [],
   "source": [
    "text = open(r'C:\\Users\\pauld\\OneDrive\\PhD\\Teaching\\2023WiSe-Qualitative methods_MA\\Syllabus_M2_updated.txt','r')\n"
   ]
  },
  {
   "cell_type": "code",
   "execution_count": 137,
   "metadata": {},
   "outputs": [
    {
     "data": {
      "text/plain": [
       "'\\ufeffM2: Qualitative methods seminar\\nDepartment of Political Science\\nUniversity of Vienna\\nWinter Semester 2023/24\\n8 ECTS\\n\\nWednesdays 4.10.2023- 31.1.2024 \\n15 pm – 18.15 pm \\nLecture hall 1 (H1), NIG 2nd floor\\n\\nMSc Paul Dunshirn (paul.dunshirn@univie.ac.at)\\nProf. Hendrik Wagenaar (hendrik.wagenaar@gmail.com)\\n\\nOffice hours: upon agreement\\n\\nSyllabus\\nContent: \\nThis seminar is an advanced introduction to qualitative research with a topical focus on environmental politics. Students will learn how to study various sites of environmental politics, such as local resource management, science-policy interactions, and civil society engagement using qualitative methods.\\n\\nBesides learning how to conduct qualitative research via practical exercises, students will learn to reflect on their own positioning at the intersection of politics and research. One session addresses ways of combining qualitative research with quantitative methods (mixed methods). \\n\\nThis seminar benefits from the ongoing research of the MARIPOLDATA ERC-funded research project, which studies the international process around the new UN treaty for the conservation and sustainable use of marine biological diversity in areas beyond national jurisdiction (BBNJ).\\n\\nMethods: \\nThe course is designed as an exercise, which means that most of the teaching is interactive. Regular and active participation of the students is required. Positive course completion is only possible after participating in at least ten of the twelve units. \\n\\nObjectives: \\nBy the end of this course, students should be able to:\\n• Formulate good research questions,\\n• Create a qualitative research design,\\n• Demonstrate knowledge of the major approaches to collecting and analyzing qualitative data, and\\n• Write an academic paper based on empirical qualitative research.\\n\\t\\nPerformance Assessment: \\nThe grade will be composed of three sub-credits (Note: Each sub-credit must be positive for a passing grade): \\n\\n1. The submission of a total of six of the written preparations of individual course units (detailed instructions are given below; students who submit more than six preparation texts will get the six best grades entered): 30% of the grade \\n2. Active participation in the individual course units: 20% of the grade\\n3. A seminar paper (maximum 6,000 words, to be submitted by February 29th, 2024): 50% of the grade.\\n\\nPrerequisites: Prior thematic knowledge, or experience in the use of qualitative methods, is not required. Students must, however, be able to read and write texts in English. \\n\\nSeminar paper:\\nThe seminar paper requires collecting new data, e.g. through interviews, focus groups, or observation. Analysis limited to existing data (including document analysis) is not sufficient. The seminar paper should not exceed 6,000 words (including footnotes, excluding bibliography). It must include the following elements: \\n\\n1. Introduction: what is the problem this paper contributes to solving? What is the research question? What have others said about this topic so far (brief review of existing literature), and what is unexplored? [25 points]\\n2. Methods: explain why the method of your choice is particularly well suited to address the research question [25 points]\\n3. Empirical part and discussion: here you present your results and situate them in the context of relevant literature. What is the answer to your research question? [25 points]\\n4. Conclusion: What is the contribution of your work to the state of the art in research? [25 points]\\n\\nUp to an additional 10 points will be awarded for formal aspects of the paper, such as language, complete and properly structured bibliography, etc. You can reach a maximum of 100 points; to complete the exercise positively you need 45 points.\\n\\n\\nSemester plan\\n1. Introduction: What is qualitative research? (4.10.2023) \\n\\nLiterature: \\nPorta, Donatella Della, and Michael Keating. 2008. “How Many Approaches in the Social Sciences? An Epistemological Introduction.” In Approaches and Methodologies in the Social Sciences, edited by Donatella Della Porta and Michael Keating, 1st ed., 19–39. Cambridge University Press. https://doi.org/10.1017/CBO9780511801938.003.\\n\\nCaggiano, Holly, and Elke U. Weber. 2023. “Advances in Qualitative Methods in Environmental Research.” Annual Review of Environment and Resources, October. https://doi.org/10.1146/annurev-environ-112321-080106.\\n\\nBackground literature: \\nGerring, J. 2017. \"Qualitative Methods.\" Annual Review of Political Science 20.1: 15-36. \\n\\nBryman, A. 1984. The debate about quantitative and qualitative research: A question of method or epistemology? British Journal of Sociology 35(1), 75-92.\\n\\nPrainsack, B., und Pot, M. 2021. Was sind qualitative Methoden und wozu brauchen wir sie? In: Prainsack, B., und Pot, M. 2021. Qualitative und interpretative Methoden in der Politikwissenschaft. Wien: Facultas/UTB. 13-29.\\n\\nWagenaar, H. 2021. Interpretative Ansätze in der qualitativen Forschung. In: Prainsack, B., und Pot, M. 2021. Qualitative und interpretative Methoden in der Politikwissenschaft. Wien: Facultas/UTB. 30-43.\\n\\n2. From topics to research questions (11.10.2023) \\n\\nLiterature:\\nBooth, W.C., Colomb, G.G., and Williams, J.M. (2008). The craft of research (3. Edition). Chicago: University of Chicago Press. Chapter 3: From topics to questions. 36-50.\\n\\nDavydd J. Greenwood and Morten Levin. 2007. Introduction: Action Research, Diversity, and Democracy. In: Introduction to Action Research: Social Research for Social Change. Vol. 2nd ed. Thousand Oaks, Calif: SAGE Publications, Inc. https://search.ebscohost.com/login.aspx?direct=true&db=nlebk&AN=321344&site=ehost-live. \\n\\nBackground literature:  \\nPot, M., und Prainsack, B. (2021). Gute Forschungsfragen entwickeln und Teilnehmerinnen\\nauswählen. In: Prainsack, B., und Pot, M. 2021. Qualitative und interpretative Methoden in der\\nPolitikwissenschaft. Wien: Facultas/UTB.  66-82.\\n\\nPreparation: Answer the following questions (about 2 pages) and upload your response to Moodle until 9 am the day the class starts.\\na) What could be a good research question that deals with the topic of environmental politics and can be answered using qualitative methods? Please also briefly describe the steps you used to arrive at this question. \\nb) Why is this a good research question, and what kind of data would you need to collect or analyze to answer it? \\n3. Case selection and research design (18.10.2023)\\nLiterature:  \\nBryman, Alan. 2012. Research Designs. In: Social Research Methods. 4. ed. Oxford: Oxford Univ. Press. 45-77. \\n\\nSmall, M. 2009. ‘How Many Cases Do I Need? On the Science and Logic of Case Selection in \\nField-Based Research.’ Ethnography 10: 5-38.\\n\\nRohe, Janne, Achim Schlüter, and Sebastian C. A. Ferse. 2018. “A Gender Lens on Women’s Harvesting Activities and Interactions with Local Marine Governance in a South Pacific Fishing Community.” Maritime Studies 17 (2): 155–62. https://doi.org/10.1007/s40152-018-0106-8.\\n\\nBackground literature:\\nGoodin, R., & Gerring, J. (2011). The Case Study: What it is and What it Does. In: The Oxford Handbook of Political Science: Oxford University Press. Retrieved 4 Mar. 2020, from https://www.oxfordhandbooks.com/view/10.1093/oxfordhb/9780199604456.001.0001/oxfordhb-9780199604456-e-051.\\n\\nPreparation: Answer the following questions (about 1 page) and upload your response to Moodle until 9 am the day the class starts.\\n\\na) Identify a research question related to environmental politics (feel free to choose from previous preparation). Choose one of the research designs as outlined in Bryman (2012) and explain why it would be a suitable choice for your research question. \\nb) Explain which cases you would choose if you were to conduct research in line with the type of design and research question (it makes sense to choose a research scenario that you could realistically conduct yourself in the context of the master program). \\n\\n4. Research ethics and the science-politics relationship (25.10.2023)\\n\\nLiterature:\\nFujii, Lee Ann (2012). Research ethics 101: Dilemmas and responsibilities. In: PS: Political Science & Politics, 45(4), 717 – 723.\\n\\nScott, James C. 1998. Introduction. In: Seeing like a State: How Certain Schemes to Improve the Human Condition Have Failed. Yale Agrarian Studies. New Haven: Yale University Press.\\n\\nVadrot, Alice B. M., Silvia C. Ruiz Rodríguez, Emmanuelle Brogat, Paul Dunshirn, Arne Langlet, Ina Tessnow-von Wysocki, and Krystel Wanneau. 2022. “Towards a Reflexive, Policy-Relevant and Engaged Ocean Science for the UN Decade: A Social Science Research Agenda.” Earth System Governance 14 (December): 100150. https://doi.org/10.1016/j.esg.2022.100150.\\n\\nBackground literature:  \\nAmerican Political Science Association (2012). A guide to professional ethics in Political Science.APSA (https://www.apsanet.org/portals/54/Files/Publications/APSAEthicsGuide2012.pdf).\\n\\nSpahl, W., und Pot, M. 2021. Forschungsethik in der Politikwissenschaft. In: Prainsack, B., und Pot, M. 2021. Qualitative und interpretative Methoden in der Politikwissenschaft. Wien: Facultas/UTB. 48-66.\\n\\nPreparation: Answer the following questions (about 1 page) and upload your response to Moodle until 9 am the day the class starts. \\na) Which research ethical aspects are to be expected when collecting and analyzing qualitative data in relation to your research question? What are the strategies to meet these challenges? (if you haven’t identified a question yet, please do so now)\\nb) An important aspect of research ethics is compliance with data protection norms. What is the difference between anonymization and pseudonymization? And what criteria must be met for you to say that your data collection is \"anonymous\"? \\n\\n--- no class on 1.11. (Allerheiligen) --\\n\\n5. Preparing interviews (8.11.2023)\\n\\nLiterature:\\nBryman, Alan. 2012. Interviewing in qualitative research. In: Social Research Methods. 4. ed. Oxford: Oxford Univ. Press. 469-496.\\n\\nHochschild, J. L. (2009). Conducting Intensive Interviews and Elite Interviews. Workshop on Interdisciplinary Standards for Systematic Qualitative Research. https://scholar.harvard.edu/jlhochschild/publications/conducting-intensive-interviews-and-elite-interviews\\n\\nBowen, Glenn A., (2009). \\'Document Analysis as a Qualitative Research Method\\', Qualitative Research Journal, vol. 9, no. 2, pp. 27-40. DOI 10.3316/QRJ0902027. \\n\\nBackground literature:  \\nLeavy, P. (2011). Oral History: Understanding Qualitative Research. Oxford University Press.\\xa0\\n\\nPrainsack, B., und Pot, M. 2021. Qualitative Interviews führen. In: Prainsack, B., und Pot, M. 2021. Qualitative und interpretative Methoden in der Politikwissenschaft. Wien: Facultas/UTB. 101-116.\\n\\nPreparation: Answer the following questions (about 2 pages) and upload your response to Moodle until 9 am the day the class starts.\\na) Formulate a research question in the topic area of environmental politics and \"translate\" it into a guideline for a qualitative interview. (If you have already turned in the term paper for the previous units you are welcome to develop the same research question). Also indicate whether the interview should be unstructured, semi-structured, or structured.\\n\\n6. Conducting interviews (15.11.2023) (taught by Prof. Wagenaar)\\n\\nLiterature:\\n\\nWeiss, R.S. 1995. Learning from Strangers: The art and method of qualitative interview studies. New York: Simon and Schuster. Kapitel 3: “Preparation for interviewing”, und Kapitel 4: “Interviewing”. S. 39-120. \\n\\nPreparation: Please conduct a short interview on a topic related to environmental politics with a person with whom you are not related or close friends and record it (as an audio or video file). Please upload it to the appropriate folder on Moodle; in the course, we will listen to or watch and discuss excerpts of the interviews together. Please make sure that you have obtained the appropriate consent from your interviewees to record and share the interview within this course.\\n--- no class on 22.11. --\\n\\n7. Observations (29.11.2023)\\nLiterature:\\nKawulich, B. B. (2005). \"Participant Observation as a Data Collection Method.\" Forum: Qualitative Social Research 6.\\n\\nSchatz, Edward, ed. 2009. Introduction. In: Political Ethnography: What Immersion Contributes to the Study of Power. University of Chicago Press.\\n\\nO’Neill, K. and P. M. Haas (2019). \"Being There: International Negotiations as Study Sites in Global Environmental Politics.\" Global Environmental Politics 19(2): 4-13.\\n\\nBackground literature:\\nEmerson, R.M., R.I. Fretz, and L.L. Shaw. 2011.\\xa0Writing Ethnographic Fieldnotes\\xa0(2nd edition). Chicago: University of Chicago Press.\\n\\nPrainsack, B., und Pot, M. 2021. Ethnographie und Beobachtung. In: Prainsack, B., und Pot, M. 2021. Qualitative und interpretative Methoden in der Politikwissenschaft. Wien: Facultas/UTB. S. 85-100.\\n\\nPreparation: Please go to a place that is (\"objectively\" or subjectively for you) related to the topic of environmental politics. Stay at this place for at least 30 minutes and make an observation. Record what you have seen in a short protocol (about 1-2 pages). Please upload the log to the appropriate Moodle folder as usual.\\n\\n8. Data analysis I (06.12.2023)\\n\\nLiterature: \\nBryman, Alan. 2012. Qualitative data analysis. In: Social Research Methods. 4. ed. Oxford: Oxford Univ. Press. 565-588.\\n\\nCharmaz, Kathy. 2014. An Invitation to Grounded Theory. In: Constructing Grounded Theory. 2nd edition. Introducing Qualitative Methods. London\\u202f; Thousand Oaks, Calif: Sage.\\n\\nTimmermans, Stefan, and Iddo Tavory. 2012. “Theory Construction in Qualitative Research: From Grounded Theory to Abductive Analysis.” Sociological Theory 30 (3): 167–86. https://doi.org/10.1177/0735275112457914.\\n\\nBackground literature: \\nPrainsack, B., und Pot, M. 2021. Interpretative Datenanalyse: Einführung in das Codieren. In: Prainsack, B., und Pot, M. 2021. Qualitative und interpretative Methoden in der Politikwissenschaft. Wien: Facultas/UTB. S. 143-156.\\nFriese, C., Clarke, A., und Washburn, R. 2021. Von der Constructivist Grounded Theory zur Situationsanalyse. In: Prainsack, B., und Pot, M. 2021. Qualitative und interpretative Methoden in der Politikwissenschaft. Wien: Facultas/UTB. S. 157-174.\\nLiebhart, K., und Bernhardt, P. 2021. Visuelle Methoden: Bildtypenanalyse und Visuelle Kontextanalyse. In: Prainsack, B., und Pot, M. 2021. Qualitative und interpretative Methoden in der Politikwissenschaft. Wien: Facultas/UTB. S. 175-191.\\n\\nPreparation: Answer the following questions (about 1 page) and upload your response to Moodle by 9 a.m. the day the class starts.\\na) How does scientific data analysis of an interview differ from journalistic (or other non-scientific) processing of an interview? \\nb) How would you describe the relationship between Grounded Theory and Abductive Analysis?\\n\\n9. Research workshop (13.12.2023)\\n\\nLiterature: \\nBooth, W.C., Colomb, G.G., and Williams, J.M. (2008). The craft of research (3. Edition). Chicago: University of Chicago Press. Chapter 12: Planning and drafting. 177-188.\\n\\nBackground literature: \\nPrainsack, B., und Pot, M. 2021. Forschungsberichte verfassen. In: Prainsack, B., und Pot, M. 2021. Qualitative und interpretative Methoden in der Politikwissenschaft. Wien: Facultas/UTB. S. 205-216.\\n\\nPreparation: Answer the following questions (about 2 pages) and upload your response to Moodle until 9 am the day the class starts.\\na) What is the topic of my seminar paper?\\nb) Why is the topic relevant?\\nc) What is the research question?\\nd) On the basis of what data do you plan to answer the research question? (Please say something about both the method of data collection and the method of data analysis).\\ne) What are the research ethics issues to consider?\\nf) What is the intended contribution of the work (to the scientific literature? To policymaking? Etc.)?\\n\\n-- Christmas break --\\n\\n10. Data analysis II (10.1.2024) (taught by Prof. Wagenaar; online)\\n\\nLiterature: none\\n\\nPreparation: Please code the text uploaded to Moodle and describe which codes you have chosen and why. Please upload the description and rationale of your codes in the appropriate folder on Moodle.\\n\\n-- no class on 17.1.2024 --\\n\\n11. Introduction to mixed methods (24.1.2024)\\n\\nLiterature:\\nBryman, Alan. 2012. Mixed methods research: Combining quantitative and qualitative research. In: Social Research Methods. 4. ed. Oxford: Oxford Univ. Press. 628-651.\\n\\nLieberman, Evan S. 2005. “Nested Analysis as a Mixed-Method Strategy for Comparative Research.” American Political Science Review 99 (3): 435–52. https://doi.org/10.1017/S0003055405051762.\\n\\nLübker, Hannah Marlen, Patrick W. Keys, Andrew Merrie, Laura M. Pereira, Juan C. Rocha, and Guillermo Ortuño Crespo. 2023. “Imagining Sustainable Futures for the High Seas by Combining the Power of Computation and Narrative.” Npj Ocean Sustainability 2 (1): 1–11. https://doi.org/10.1038/s44183-023-00012-y.\\n\\nPreparation: Answer the following questions (about 1 page) and upload your response to Moodle until 9 a.m. the day the class starts.\\na) Imagine adding a quantitative component to your qualitative research proposal. Which type of mixed methods research, as outlined in Bryman (2012), would you choose? (e.g. quan-QUAL research). Why does this choice make sense? What would be the benefits and disadvantages of such a research approach? \\n\\n12. Evaluating qualitative studies (31.1.2023)\\n\\nLiterature: \\nLong, A.F., und Godfrey, M. 2004. An evaluation tool to assess the quality of qualitative \\nresearch studies. International Journal of Social Research Methodology 7-2: 181-196.\\n\\nBackground literature: \\nPrainsack, B., und Pot, M. 2021. Bewertungskriterien in der qualitativen Forschung. In:\\nPrainsack, B., und Pot, M. 2021. Qualitative und interpretative Methoden in der\\nPolitikwissenschaft. Wien: Facultas/UTB. S. 217-229.\\n\\nPreparation: Please read one of the two texts that have been marked as term paper texts on Moodle and analyze it according to the criteria suggested by Long & Godfrey (about 1 page).\\n'"
      ]
     },
     "execution_count": 137,
     "metadata": {},
     "output_type": "execute_result"
    }
   ],
   "source": [
    "text.read()"
   ]
  }
 ],
 "metadata": {
  "kernelspec": {
   "display_name": "Python 3",
   "language": "python",
   "name": "python3"
  },
  "language_info": {
   "codemirror_mode": {
    "name": "ipython",
    "version": 3
   },
   "file_extension": ".py",
   "mimetype": "text/x-python",
   "name": "python",
   "nbconvert_exporter": "python",
   "pygments_lexer": "ipython3",
   "version": "3.8.5"
  }
 },
 "nbformat": 4,
 "nbformat_minor": 4
}
